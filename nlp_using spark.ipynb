{
  "nbformat": 4,
  "nbformat_minor": 5,
  "metadata": {
    "kernelspec": {
      "display_name": "Python 3",
      "language": "python",
      "name": "python3"
    },
    "language_info": {
      "codemirror_mode": {
        "name": "ipython",
        "version": 3
      },
      "file_extension": ".py",
      "mimetype": "text/x-python",
      "name": "python",
      "nbconvert_exporter": "python",
      "pygments_lexer": "ipython3",
      "version": "3.8.8"
    },
    "colab": {
      "name": "Copy of Spark and Python for Big Data Final Exam-Branches.ipynb",
      "provenance": [],
      "collapsed_sections": []
    }
  },
  "cells": [
    {
      "cell_type": "markdown",
      "metadata": {
        "id": "fa486f23"
      },
      "source": [
        "![image.png](attachment:image.png)"
      ],
      "id": "fa486f23"
    },
    {
      "cell_type": "markdown",
      "metadata": {
        "id": "abbf1e33"
      },
      "source": [
        "##### **Good luck with taking your exam. Keep working and make your dreams all come true. Seeing the results of all of your hard work will make this struggle worth it. We’re all thinking of you.** \n",
        "<b><font color='blue'>AI-PRO Spark Team ITI</font></b>"
      ],
      "id": "abbf1e33"
    },
    {
      "cell_type": "markdown",
      "metadata": {
        "id": "c9da32d6"
      },
      "source": [
        "# NLP Using PySpark"
      ],
      "id": "c9da32d6"
    },
    {
      "cell_type": "markdown",
      "metadata": {
        "id": "8326ba88"
      },
      "source": [
        "## Objective:\n",
        "- The objective from this project is to create a <b>Spam filter using NaiveBayes classifier</b>.\n",
        "- It is required to obtain <b>f1_scored > 0.9</b>.\n",
        "- We'll use a dataset from UCI Repository. SMS Spam Detection: https://archive.ics.uci.edu/ml/datasets/SMS+Spam+Collection\n",
        "- Data is also provided for you in the assignment (you do not have to download it)."
      ],
      "id": "8326ba88"
    },
    {
      "cell_type": "markdown",
      "metadata": {
        "id": "6971f788"
      },
      "source": [
        "## To perform this task follow the following guiding steps:"
      ],
      "id": "6971f788"
    },
    {
      "cell_type": "markdown",
      "metadata": {
        "id": "e31bc851"
      },
      "source": [
        "### Create a spark session and import the required libraries"
      ],
      "id": "e31bc851"
    },
    {
      "cell_type": "code",
      "metadata": {
        "id": "dcf86e46",
        "colab": {
          "base_uri": "https://localhost:8080/"
        },
        "outputId": "25e17a9e-86f7-4106-e25e-a76736f1aad2"
      },
      "source": [
        "!pip install pyspark"
      ],
      "id": "dcf86e46",
      "execution_count": 1,
      "outputs": [
        {
          "output_type": "stream",
          "name": "stdout",
          "text": [
            "Requirement already satisfied: pyspark in /usr/local/lib/python3.7/dist-packages (3.2.0)\n",
            "Requirement already satisfied: py4j==0.10.9.2 in /usr/local/lib/python3.7/dist-packages (from pyspark) (0.10.9.2)\n"
          ]
        }
      ]
    },
    {
      "cell_type": "code",
      "metadata": {
        "id": "rWfusvnrXqUG"
      },
      "source": [
        "import pyspark\n",
        "from pyspark.sql import SparkSession\n",
        "from pyspark.sql.functions import *\n",
        "\n",
        "spark = SparkSession.builder.getOrCreate()"
      ],
      "id": "rWfusvnrXqUG",
      "execution_count": 2,
      "outputs": []
    },
    {
      "cell_type": "markdown",
      "metadata": {
        "id": "90c7df9e"
      },
      "source": [
        "### Read the readme file to learn more about the data"
      ],
      "id": "90c7df9e"
    },
    {
      "cell_type": "markdown",
      "metadata": {
        "id": "2d00718f"
      },
      "source": [
        "### Read the data into a DataFrame"
      ],
      "id": "2d00718f"
    },
    {
      "cell_type": "code",
      "metadata": {
        "id": "w2Fttb6sX6FA",
        "colab": {
          "base_uri": "https://localhost:8080/"
        },
        "outputId": "d42e0798-9858-4f74-d318-fcf5294a6de4"
      },
      "source": [
        "!wget https://archive.ics.uci.edu/ml/machine-learning-databases/00228/smsspamcollection.zip"
      ],
      "id": "w2Fttb6sX6FA",
      "execution_count": 3,
      "outputs": [
        {
          "output_type": "stream",
          "name": "stdout",
          "text": [
            "--2021-11-28 08:06:45--  https://archive.ics.uci.edu/ml/machine-learning-databases/00228/smsspamcollection.zip\n",
            "Resolving archive.ics.uci.edu (archive.ics.uci.edu)... 128.195.10.252\n",
            "Connecting to archive.ics.uci.edu (archive.ics.uci.edu)|128.195.10.252|:443... connected.\n",
            "HTTP request sent, awaiting response... 200 OK\n",
            "Length: 203415 (199K) [application/x-httpd-php]\n",
            "Saving to: ‘smsspamcollection.zip.1’\n",
            "\n",
            "smsspamcollection.z 100%[===================>] 198.65K   730KB/s    in 0.3s    \n",
            "\n",
            "2021-11-28 08:06:46 (730 KB/s) - ‘smsspamcollection.zip.1’ saved [203415/203415]\n",
            "\n"
          ]
        }
      ]
    },
    {
      "cell_type": "code",
      "metadata": {
        "id": "h-P6HdBOYG28",
        "colab": {
          "base_uri": "https://localhost:8080/"
        },
        "outputId": "c9892478-f285-4d01-ee13-5ce9486f904a"
      },
      "source": [
        "!unzip /content/smsspamcollection.zip"
      ],
      "id": "h-P6HdBOYG28",
      "execution_count": 4,
      "outputs": [
        {
          "output_type": "stream",
          "name": "stdout",
          "text": [
            "Archive:  /content/smsspamcollection.zip\n",
            "replace SMSSpamCollection? [y]es, [n]o, [A]ll, [N]one, [r]ename: a\n",
            "error:  invalid response [a]\n",
            "replace SMSSpamCollection? [y]es, [n]o, [A]ll, [N]one, [r]ename: A\n",
            "  inflating: SMSSpamCollection       \n",
            "  inflating: readme                  \n"
          ]
        }
      ]
    },
    {
      "cell_type": "code",
      "metadata": {
        "id": "29914cf1",
        "colab": {
          "base_uri": "https://localhost:8080/"
        },
        "outputId": "6ac65277-d8c0-440e-e31e-93638f1cda23"
      },
      "source": [
        "df = spark.read.option(\"delimiter\", \"\\t\").csv('/content/SMSSpamCollection',inferSchema=True)\n",
        "df.show()"
      ],
      "id": "29914cf1",
      "execution_count": 5,
      "outputs": [
        {
          "output_type": "stream",
          "name": "stdout",
          "text": [
            "+----+--------------------+\n",
            "| _c0|                 _c1|\n",
            "+----+--------------------+\n",
            "| ham|Go until jurong p...|\n",
            "| ham|Ok lar... Joking ...|\n",
            "|spam|Free entry in 2 a...|\n",
            "| ham|U dun say so earl...|\n",
            "| ham|Nah I don't think...|\n",
            "|spam|FreeMsg Hey there...|\n",
            "| ham|Even my brother i...|\n",
            "| ham|As per your reque...|\n",
            "|spam|WINNER!! As a val...|\n",
            "|spam|Had your mobile 1...|\n",
            "| ham|I'm gonna be home...|\n",
            "|spam|SIX chances to wi...|\n",
            "|spam|URGENT! You have ...|\n",
            "| ham|I've been searchi...|\n",
            "| ham|I HAVE A DATE ON ...|\n",
            "|spam|XXXMobileMovieClu...|\n",
            "| ham|Oh k...i'm watchi...|\n",
            "| ham|Eh u remember how...|\n",
            "| ham|Fine if thats th...|\n",
            "|spam|England v Macedon...|\n",
            "+----+--------------------+\n",
            "only showing top 20 rows\n",
            "\n"
          ]
        }
      ]
    },
    {
      "cell_type": "markdown",
      "metadata": {
        "id": "182cd7f6"
      },
      "source": [
        "### Print the schema"
      ],
      "id": "182cd7f6"
    },
    {
      "cell_type": "code",
      "metadata": {
        "id": "b52706b9",
        "colab": {
          "base_uri": "https://localhost:8080/"
        },
        "outputId": "ee67ce7c-a829-433f-8821-ec71bb4695e5"
      },
      "source": [
        "df.printSchema()"
      ],
      "id": "b52706b9",
      "execution_count": 6,
      "outputs": [
        {
          "output_type": "stream",
          "name": "stdout",
          "text": [
            "root\n",
            " |-- _c0: string (nullable = true)\n",
            " |-- _c1: string (nullable = true)\n",
            "\n"
          ]
        }
      ]
    },
    {
      "cell_type": "markdown",
      "metadata": {
        "id": "2b90cce7"
      },
      "source": [
        "### Rename the first column to 'class' and second column to 'text'"
      ],
      "id": "2b90cce7"
    },
    {
      "cell_type": "code",
      "metadata": {
        "scrolled": false,
        "id": "f1a88df6",
        "colab": {
          "base_uri": "https://localhost:8080/"
        },
        "outputId": "94dceea0-5a27-4beb-c497-05392d8edc41"
      },
      "source": [
        "df = df.withColumnRenamed(\"_c0\",\"class\").withColumnRenamed(\"_c1\",\"text\")\n",
        "df.printSchema()"
      ],
      "id": "f1a88df6",
      "execution_count": 7,
      "outputs": [
        {
          "output_type": "stream",
          "name": "stdout",
          "text": [
            "root\n",
            " |-- class: string (nullable = true)\n",
            " |-- text: string (nullable = true)\n",
            "\n"
          ]
        }
      ]
    },
    {
      "cell_type": "code",
      "metadata": {
        "id": "62a544fc"
      },
      "source": [
        ""
      ],
      "id": "62a544fc",
      "execution_count": 7,
      "outputs": []
    },
    {
      "cell_type": "markdown",
      "metadata": {
        "id": "a3e798d0"
      },
      "source": [
        "### Show the first 10 rows from the dataframe\n",
        "- Show once with truncate=True and once with truncate=False"
      ],
      "id": "a3e798d0"
    },
    {
      "cell_type": "code",
      "metadata": {
        "id": "362dcb99",
        "colab": {
          "base_uri": "https://localhost:8080/"
        },
        "outputId": "5fe1e4f9-4c0c-41c9-e983-7a4c0fcd473a"
      },
      "source": [
        "df.show(10, truncate=False)"
      ],
      "id": "362dcb99",
      "execution_count": 8,
      "outputs": [
        {
          "output_type": "stream",
          "name": "stdout",
          "text": [
            "+-----+----------------------------------------------------------------------------------------------------------------------------------------------------------------+\n",
            "|class|text                                                                                                                                                            |\n",
            "+-----+----------------------------------------------------------------------------------------------------------------------------------------------------------------+\n",
            "|ham  |Go until jurong point, crazy.. Available only in bugis n great world la e buffet... Cine there got amore wat...                                                 |\n",
            "|ham  |Ok lar... Joking wif u oni...                                                                                                                                   |\n",
            "|spam |Free entry in 2 a wkly comp to win FA Cup final tkts 21st May 2005. Text FA to 87121 to receive entry question(std txt rate)T&C's apply 08452810075over18's     |\n",
            "|ham  |U dun say so early hor... U c already then say...                                                                                                               |\n",
            "|ham  |Nah I don't think he goes to usf, he lives around here though                                                                                                   |\n",
            "|spam |FreeMsg Hey there darling it's been 3 week's now and no word back! I'd like some fun you up for it still? Tb ok! XxX std chgs to send, £1.50 to rcv             |\n",
            "|ham  |Even my brother is not like to speak with me. They treat me like aids patent.                                                                                   |\n",
            "|ham  |As per your request 'Melle Melle (Oru Minnaminunginte Nurungu Vettam)' has been set as your callertune for all Callers. Press *9 to copy your friends Callertune|\n",
            "|spam |WINNER!! As a valued network customer you have been selected to receivea £900 prize reward! To claim call 09061701461. Claim code KL341. Valid 12 hours only.   |\n",
            "|spam |Had your mobile 11 months or more? U R entitled to Update to the latest colour mobiles with camera for Free! Call The Mobile Update Co FREE on 08002986030      |\n",
            "+-----+----------------------------------------------------------------------------------------------------------------------------------------------------------------+\n",
            "only showing top 10 rows\n",
            "\n"
          ]
        }
      ]
    },
    {
      "cell_type": "code",
      "metadata": {
        "id": "41609e6b"
      },
      "source": [
        ""
      ],
      "id": "41609e6b",
      "execution_count": 8,
      "outputs": []
    },
    {
      "cell_type": "markdown",
      "metadata": {
        "id": "2fe744a9"
      },
      "source": [
        "## Clean and Prepare the Data"
      ],
      "id": "2fe744a9"
    },
    {
      "cell_type": "markdown",
      "metadata": {
        "id": "4d693167"
      },
      "source": [
        "### Create a new feature column contains the length of the text column"
      ],
      "id": "4d693167"
    },
    {
      "cell_type": "code",
      "metadata": {
        "id": "5424a0cb"
      },
      "source": [
        "df= df.withColumn('length',length(df.text))"
      ],
      "id": "5424a0cb",
      "execution_count": 9,
      "outputs": []
    },
    {
      "cell_type": "markdown",
      "metadata": {
        "id": "78ea2de6"
      },
      "source": [
        "### Show the new dataframe"
      ],
      "id": "78ea2de6"
    },
    {
      "cell_type": "code",
      "metadata": {
        "scrolled": false,
        "id": "04c67c53",
        "colab": {
          "base_uri": "https://localhost:8080/"
        },
        "outputId": "381f130e-318a-4f1a-cb64-e58b89ae00c0"
      },
      "source": [
        "df.show()"
      ],
      "id": "04c67c53",
      "execution_count": 10,
      "outputs": [
        {
          "output_type": "stream",
          "name": "stdout",
          "text": [
            "+-----+--------------------+------+\n",
            "|class|                text|length|\n",
            "+-----+--------------------+------+\n",
            "|  ham|Go until jurong p...|   111|\n",
            "|  ham|Ok lar... Joking ...|    29|\n",
            "| spam|Free entry in 2 a...|   155|\n",
            "|  ham|U dun say so earl...|    49|\n",
            "|  ham|Nah I don't think...|    61|\n",
            "| spam|FreeMsg Hey there...|   147|\n",
            "|  ham|Even my brother i...|    77|\n",
            "|  ham|As per your reque...|   160|\n",
            "| spam|WINNER!! As a val...|   157|\n",
            "| spam|Had your mobile 1...|   154|\n",
            "|  ham|I'm gonna be home...|   109|\n",
            "| spam|SIX chances to wi...|   136|\n",
            "| spam|URGENT! You have ...|   155|\n",
            "|  ham|I've been searchi...|   196|\n",
            "|  ham|I HAVE A DATE ON ...|    35|\n",
            "| spam|XXXMobileMovieClu...|   149|\n",
            "|  ham|Oh k...i'm watchi...|    26|\n",
            "|  ham|Eh u remember how...|    81|\n",
            "|  ham|Fine if thats th...|    56|\n",
            "| spam|England v Macedon...|   155|\n",
            "+-----+--------------------+------+\n",
            "only showing top 20 rows\n",
            "\n"
          ]
        }
      ]
    },
    {
      "cell_type": "markdown",
      "metadata": {
        "id": "692e37a6"
      },
      "source": [
        "### Get the average text length for each class (give alias name to the average length column)"
      ],
      "id": "692e37a6"
    },
    {
      "cell_type": "code",
      "metadata": {
        "id": "WDSjT2Ghbf8-"
      },
      "source": [
        "df.createOrReplaceTempView('df')"
      ],
      "id": "WDSjT2Ghbf8-",
      "execution_count": 11,
      "outputs": []
    },
    {
      "cell_type": "code",
      "metadata": {
        "id": "39PGid73brfh",
        "colab": {
          "base_uri": "https://localhost:8080/"
        },
        "outputId": "b7c0f75c-d2dd-4fd9-d5fa-c9446c63da6f"
      },
      "source": [
        "spark.sql('select class, avg(length) from df group by class').show()"
      ],
      "id": "39PGid73brfh",
      "execution_count": 12,
      "outputs": [
        {
          "output_type": "stream",
          "name": "stdout",
          "text": [
            "+-----+-----------------+\n",
            "|class|      avg(length)|\n",
            "+-----+-----------------+\n",
            "|  ham|71.45431945307645|\n",
            "| spam|138.6706827309237|\n",
            "+-----+-----------------+\n",
            "\n"
          ]
        }
      ]
    },
    {
      "cell_type": "markdown",
      "metadata": {
        "id": "d5e101af"
      },
      "source": [
        "## Feature Transformations"
      ],
      "id": "d5e101af"
    },
    {
      "cell_type": "markdown",
      "metadata": {
        "id": "838ad9dd"
      },
      "source": [
        "### In this part you transform you raw text in to tf_idf model :\n",
        "- For more information about TF-IDF check the following link: <b>(Not needed for the test)</b>\n",
        "https://en.wikipedia.org/wiki/Tf%E2%80%93idf"
      ],
      "id": "838ad9dd"
    },
    {
      "cell_type": "markdown",
      "metadata": {
        "id": "225067d5"
      },
      "source": [
        "### Perform the following steps to obtain TF-IDF:\n",
        "1. Import the required transformers/estimators for the subsequent steps.\n",
        "2. Create a <b>Tokenizer</b> from the text column.\n",
        "3. Create a <b>StopWordsRemover</b> to remove the <b>stop words</b> from the column obtained from the <b>Tokenizer</b>.\n",
        "4. Create a <b>CountVectorizer</b> after removing the <b>stop words</b>.\n",
        "5. Create the <b>TF-IDF</b> from the <b>CountVectorizer</b>."
      ],
      "id": "225067d5"
    },
    {
      "cell_type": "code",
      "metadata": {
        "id": "6a4eebf8"
      },
      "source": [
        "from pyspark.ml.feature import Tokenizer, StopWordsRemover, CountVectorizer, IDF, StringIndexer, VectorAssembler"
      ],
      "id": "6a4eebf8",
      "execution_count": 13,
      "outputs": []
    },
    {
      "cell_type": "code",
      "metadata": {
        "id": "b82756db"
      },
      "source": [
        "tokenizer = Tokenizer(inputCol=\"text\", outputCol=\"token_text\")\n",
        "stopremove = StopWordsRemover(inputCol='token_text',outputCol='stop_tokens')\n",
        "count_vec = CountVectorizer(inputCol='stop_tokens',outputCol='count_vec')\n",
        "tf_idf = IDF(inputCol=\"count_vec\", outputCol=\"tf_idf\")"
      ],
      "id": "b82756db",
      "execution_count": 14,
      "outputs": []
    },
    {
      "cell_type": "markdown",
      "metadata": {
        "id": "1527ad65"
      },
      "source": [
        "- Convert the <b>class column</b> to index using <b>StringIndexer</b>\n",
        "- Create feature column from the <b>TF-IDF</b> and <b>lenght</b> columns."
      ],
      "id": "1527ad65"
    },
    {
      "cell_type": "code",
      "metadata": {
        "id": "aaf46159"
      },
      "source": [
        "classes = StringIndexer(inputCol='class',outputCol='label')"
      ],
      "id": "aaf46159",
      "execution_count": 15,
      "outputs": []
    },
    {
      "cell_type": "code",
      "metadata": {
        "id": "ad9d4c52"
      },
      "source": [
        "assembler = VectorAssembler(inputCols=['tf_idf','length'],outputCol='features')"
      ],
      "id": "ad9d4c52",
      "execution_count": 16,
      "outputs": []
    },
    {
      "cell_type": "markdown",
      "metadata": {
        "id": "9775d494"
      },
      "source": [
        "## The Model\n",
        "- Create a <b>NaiveBayes</b> classifier with the default parameters."
      ],
      "id": "9775d494"
    },
    {
      "cell_type": "code",
      "metadata": {
        "id": "57af0d5d"
      },
      "source": [
        "from pyspark.ml.classification import NaiveBayes\n",
        "\n",
        "nb = NaiveBayes()"
      ],
      "id": "57af0d5d",
      "execution_count": 17,
      "outputs": []
    },
    {
      "cell_type": "code",
      "metadata": {
        "id": "54c7384e"
      },
      "source": [
        ""
      ],
      "id": "54c7384e",
      "execution_count": 17,
      "outputs": []
    },
    {
      "cell_type": "markdown",
      "metadata": {
        "id": "dc14de63"
      },
      "source": [
        "## Pipeline\n",
        "### Create a pipeline model contains all the steps starting from the Tokenizer to the NaiveBays classifier."
      ],
      "id": "dc14de63"
    },
    {
      "cell_type": "code",
      "metadata": {
        "id": "8ee0d1ca"
      },
      "source": [
        "from pyspark.ml import Pipeline\n",
        "data_prep_pipe = Pipeline(stages=[classes, tokenizer, stopremove, count_vec, tf_idf, assembler])"
      ],
      "id": "8ee0d1ca",
      "execution_count": 18,
      "outputs": []
    },
    {
      "cell_type": "code",
      "metadata": {
        "id": "7f82bab0"
      },
      "source": [
        "pipe = data_prep_pipe.fit(df)\n",
        "df_clean = pipe.transform(df)"
      ],
      "id": "7f82bab0",
      "execution_count": 19,
      "outputs": []
    },
    {
      "cell_type": "markdown",
      "metadata": {
        "id": "f5d7efbe"
      },
      "source": [
        "### Split your data to trian and test data with ratios 0.7 and 0.3 respectively."
      ],
      "id": "f5d7efbe"
    },
    {
      "cell_type": "code",
      "metadata": {
        "id": "2843d997"
      },
      "source": [
        "train, test = df_clean.randomSplit([0.7,0.3])"
      ],
      "id": "2843d997",
      "execution_count": 20,
      "outputs": []
    },
    {
      "cell_type": "markdown",
      "metadata": {
        "id": "8bcea576"
      },
      "source": [
        "### Fit your Pipeline model to the training data"
      ],
      "id": "8bcea576"
    },
    {
      "cell_type": "code",
      "metadata": {
        "id": "3c5d4681"
      },
      "source": [
        "model = nb.fit(train)"
      ],
      "id": "3c5d4681",
      "execution_count": 21,
      "outputs": []
    },
    {
      "cell_type": "markdown",
      "metadata": {
        "id": "228a3eb1"
      },
      "source": [
        "### Perform predictions on tests dataframe"
      ],
      "id": "228a3eb1"
    },
    {
      "cell_type": "code",
      "metadata": {
        "id": "14f4aab5",
        "colab": {
          "base_uri": "https://localhost:8080/"
        },
        "outputId": "46d8e89d-5e5c-4620-d14a-e5fa76f35bb9"
      },
      "source": [
        "preds = model.transform(test)\n",
        "preds.show(10)"
      ],
      "id": "14f4aab5",
      "execution_count": 22,
      "outputs": [
        {
          "output_type": "stream",
          "name": "stdout",
          "text": [
            "+-----+--------------------+------+-----+--------------------+--------------------+--------------------+--------------------+--------------------+--------------------+--------------------+----------+\n",
            "|class|                text|length|label|          token_text|         stop_tokens|           count_vec|              tf_idf|            features|       rawPrediction|         probability|prediction|\n",
            "+-----+--------------------+------+-----+--------------------+--------------------+--------------------+--------------------+--------------------+--------------------+--------------------+----------+\n",
            "|  ham| says that he's q...|   200|  0.0|[, says, that, he...|[, says, quitting...|(13423,[0,3,14,18...|(13423,[0,3,14,18...|(13424,[0,3,14,18...|[-1203.7580600799...|[1.0,1.6912929200...|       0.0|\n",
            "|  ham|\"Happy valentines...|   147|  0.0|[\"happy, valentin...|[\"happy, valentin...|(13423,[12,168,18...|(13423,[12,168,18...|(13424,[12,168,18...|[-1114.4032362289...|[0.99999999999999...|       0.0|\n",
            "|  ham|\"SYMPTOMS\" when U...|   139|  0.0|[\"symptoms\", when...|[\"symptoms\", u, l...|(13423,[0,5,10,32...|(13423,[0,5,10,32...|(13424,[0,5,10,32...|[-1094.9969029009...|[0.99999999999995...|       0.0|\n",
            "|  ham|\"Speak only when ...|    80|  0.0|[\"speak, only, wh...|[\"speak, feel, wo...|(13423,[115,116,2...|(13423,[115,116,2...|(13424,[115,116,2...|[-518.28596026061...|[1.0,7.5427533174...|       0.0|\n",
            "|  ham|&lt;#&gt;  great ...|    85|  0.0|[&lt;#&gt;, , gre...|[&lt;#&gt;, , gre...|(13423,[3,6,32,61...|(13423,[3,6,32,61...|(13424,[3,6,32,61...|[-676.39283954436...|[1.0,4.2751423887...|       0.0|\n",
            "|  ham|&lt;#&gt;  is fas...|   461|  0.0|[&lt;#&gt;, , is,...|[&lt;#&gt;, , fas...|(13423,[0,3,6,8,1...|(13423,[0,3,6,8,1...|(13424,[0,3,6,8,1...|[-3620.9274339213...|[1.0,2.1797815613...|       0.0|\n",
            "|  ham|&lt;#&gt; ISH MIN...|    45|  0.0|[&lt;#&gt;, ish, ...|[&lt;#&gt;, ish, ...|(13423,[6,242,278...|(13423,[6,242,278...|(13424,[6,242,278...|[-436.66058734833...|[0.99999999999999...|       0.0|\n",
            "|  ham|'An Amazing Quote...|   141|  0.0|['an, amazing, qu...|['an, amazing, qu...|(13423,[59,151,21...|(13423,[59,151,21...|(13424,[59,151,21...|[-1231.7074304940...|[1.0,1.7311560181...|       0.0|\n",
            "|  ham|(You didn't hear ...|    28|  0.0|[(you, didn't, he...|   [(you, hear, me)]|(13423,[261,6714,...|(13423,[261,6714,...|(13424,[261,6714,...|[-267.12008480690...|[9.94848466834271...|       1.0|\n",
            "|  ham|* Was a nice day ...|   140|  0.0|[*, was, a, nice,...|[*, nice, day, an...|(13423,[43,45,108...|(13423,[43,45,108...|(13424,[43,45,108...|[-976.72157776562...|[1.0,1.2117712029...|       0.0|\n",
            "+-----+--------------------+------+-----+--------------------+--------------------+--------------------+--------------------+--------------------+--------------------+--------------------+----------+\n",
            "only showing top 10 rows\n",
            "\n"
          ]
        }
      ]
    },
    {
      "cell_type": "markdown",
      "metadata": {
        "id": "bce2885f"
      },
      "source": [
        "### Print the schema of the prediction dataframe"
      ],
      "id": "bce2885f"
    },
    {
      "cell_type": "code",
      "metadata": {
        "id": "6e3ea341",
        "colab": {
          "base_uri": "https://localhost:8080/"
        },
        "outputId": "11d283f0-ce1b-4798-d483-b79f091542dc"
      },
      "source": [
        "preds.printSchema()"
      ],
      "id": "6e3ea341",
      "execution_count": 23,
      "outputs": [
        {
          "output_type": "stream",
          "name": "stdout",
          "text": [
            "root\n",
            " |-- class: string (nullable = true)\n",
            " |-- text: string (nullable = true)\n",
            " |-- length: integer (nullable = true)\n",
            " |-- label: double (nullable = false)\n",
            " |-- token_text: array (nullable = true)\n",
            " |    |-- element: string (containsNull = true)\n",
            " |-- stop_tokens: array (nullable = true)\n",
            " |    |-- element: string (containsNull = true)\n",
            " |-- count_vec: vector (nullable = true)\n",
            " |-- tf_idf: vector (nullable = true)\n",
            " |-- features: vector (nullable = true)\n",
            " |-- rawPrediction: vector (nullable = true)\n",
            " |-- probability: vector (nullable = true)\n",
            " |-- prediction: double (nullable = false)\n",
            "\n"
          ]
        }
      ]
    },
    {
      "cell_type": "markdown",
      "metadata": {
        "id": "57f27055"
      },
      "source": [
        "## Model Evaluation\n",
        "- Use <b>MulticlassClassificationEvaluator</b> to calculate the <b>f1_score</b>."
      ],
      "id": "57f27055"
    },
    {
      "cell_type": "code",
      "metadata": {
        "id": "61911086",
        "colab": {
          "base_uri": "https://localhost:8080/"
        },
        "outputId": "abef77db-0c68-437c-d9e4-a0c1759df8ed"
      },
      "source": [
        "from pyspark.ml.evaluation import MulticlassClassificationEvaluator\n",
        "f1_eval = MulticlassClassificationEvaluator(metricName='f1')\n",
        "print(\"f1_score: \", f1_eval.evaluate(preds))"
      ],
      "id": "61911086",
      "execution_count": 24,
      "outputs": [
        {
          "output_type": "stream",
          "name": "stdout",
          "text": [
            "f1_score:  0.9188202697238725\n"
          ]
        }
      ]
    },
    {
      "cell_type": "markdown",
      "metadata": {
        "id": "e00e7b53"
      },
      "source": [
        "# GOOD LUCK\n",
        "<b><font color='GREEN'>AI-PRO Spark Team ITI</font></b>"
      ],
      "id": "e00e7b53"
    },
    {
      "cell_type": "markdown",
      "metadata": {
        "id": "0e065922"
      },
      "source": [
        "![image-3.png](attachment:image-3.png)"
      ],
      "id": "0e065922"
    }
  ]
}